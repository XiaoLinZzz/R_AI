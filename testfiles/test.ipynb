{
 "cells": [
  {
   "cell_type": "code",
   "execution_count": 1,
   "metadata": {},
   "outputs": [
    {
     "name": "stdout",
     "output_type": "stream",
     "text": [
      "Data types before inference:\n",
      "Name         object\n",
      "Birthdate    object\n",
      "Score        object\n",
      "Grade        object\n",
      "dtype: object\n"
     ]
    }
   ],
   "source": [
    "import pandas as pd\n",
    "\n",
    "def infer_and_convert_data_types(df):\n",
    "    for col in df.columns:\n",
    "        # Attempt to convert to numeric first\n",
    "        df_converted = pd.to_numeric(df[col], errors='coerce')\n",
    "        if not df_converted.isna().all():  # If at least one value is numeric\n",
    "            df[col] = df_converted\n",
    "            continue\n",
    "\n",
    "        # Attempt to convert to datetime\n",
    "        try:\n",
    "            df[col] = pd.to_datetime(df[col])\n",
    "            continue\n",
    "        except (ValueError, TypeError):\n",
    "            pass\n",
    "\n",
    "        # Check if the column should be categorical\n",
    "        if len(df[col].unique()) / len(df[col]) < 0.5:  # Example threshold for categorization\n",
    "            df[col] = pd.Categorical(df[col])\n",
    "\n",
    "    return df\n",
    "\n",
    "# Test the function with your DataFrame\n",
    "df = pd.read_csv('sample_data.csv')\n",
    "print(\"Data types before inference:\")\n",
    "print(df.dtypes)"
   ]
  },
  {
   "cell_type": "code",
   "execution_count": 13,
   "metadata": {},
   "outputs": [
    {
     "name": "stdout",
     "output_type": "stream",
     "text": [
      "Name                float64\n",
      "Birthdate    datetime64[ns]\n",
      "Score               float64\n",
      "Grade              category\n",
      "dtype: object\n"
     ]
    },
    {
     "name": "stderr",
     "output_type": "stream",
     "text": [
      "/var/folders/1f/7fym__j972n1d8hhq4wp8w0c0000gn/T/ipykernel_87246/3906341444.py:18: UserWarning: Could not infer format, so each element will be parsed individually, falling back to `dateutil`. To ensure parsing is consistent and as-expected, please specify a format.\n",
      "  df[column] = pd.to_datetime(col_data, errors='coerce')\n",
      "/var/folders/1f/7fym__j972n1d8hhq4wp8w0c0000gn/T/ipykernel_87246/3906341444.py:18: UserWarning: Could not infer format, so each element will be parsed individually, falling back to `dateutil`. To ensure parsing is consistent and as-expected, please specify a format.\n",
      "  df[column] = pd.to_datetime(col_data, errors='coerce')\n",
      "/var/folders/1f/7fym__j972n1d8hhq4wp8w0c0000gn/T/ipykernel_87246/3906341444.py:18: UserWarning: Could not infer format, so each element will be parsed individually, falling back to `dateutil`. To ensure parsing is consistent and as-expected, please specify a format.\n",
      "  df[column] = pd.to_datetime(col_data, errors='coerce')\n"
     ]
    }
   ],
   "source": [
    "import pandas as pd\n",
    "\n",
    "def infer_and_convert_dtypes(file_path):\n",
    "    # Load the data\n",
    "    if file_path.endswith('.csv'):\n",
    "        df = pd.read_csv(file_path)\n",
    "    elif file_path.endswith('.xlsx'):\n",
    "        df = pd.read_excel(file_path)\n",
    "    else:\n",
    "        raise ValueError(\"Unsupported file format. Please provide a CSV or Excel file.\")\n",
    "    \n",
    "    # Infer and convert column data types\n",
    "    for column in df.columns:\n",
    "        col_data = df[column]\n",
    "        \n",
    "        # Attempt date conversion\n",
    "        try:\n",
    "            df[column] = pd.to_datetime(col_data, errors='coerce')\n",
    "            if df[column].notna().sum() > 0:\n",
    "                continue\n",
    "        except (ValueError, TypeError):\n",
    "            pass\n",
    "\n",
    "        # Attempt integer conversion if no missing values and values are close to integers\n",
    "        if col_data.dropna().apply(lambda x: x.isnumeric() if isinstance(x, str) else False).all():\n",
    "            df[column] = pd.to_numeric(col_data, downcast='integer', errors='coerce')\n",
    "            continue\n",
    "        \n",
    "        # Attempt float conversion\n",
    "        try:\n",
    "            df[column] = pd.to_numeric(col_data, errors='coerce')\n",
    "            if df[column].notna().sum() > 0:\n",
    "                continue\n",
    "        except ValueError:\n",
    "            pass\n",
    "\n",
    "        # Attempt Boolean conversion\n",
    "        if col_data.dropna().isin([True, False, 'True', 'False']).all():\n",
    "            df[column] = col_data.astype('bool')\n",
    "            continue\n",
    "\n",
    "        # Convert text columns with limited unique values to category\n",
    "        if col_data.nunique() < 0.5 * len(col_data) and col_data.dtype == 'object':\n",
    "            df[column] = col_data.astype('category')\n",
    "    \n",
    "    return df\n",
    "\n",
    "df_converted = infer_and_convert_dtypes('sample_data.csv')\n",
    "print(df_converted.dtypes)"
   ]
  },
  {
   "cell_type": "code",
   "execution_count": null,
   "metadata": {},
   "outputs": [],
   "source": []
  },
  {
   "cell_type": "code",
   "execution_count": null,
   "metadata": {},
   "outputs": [],
   "source": []
  }
 ],
 "metadata": {
  "kernelspec": {
   "display_name": "Python 3",
   "language": "python",
   "name": "python3"
  },
  "language_info": {
   "codemirror_mode": {
    "name": "ipython",
    "version": 3
   },
   "file_extension": ".py",
   "mimetype": "text/x-python",
   "name": "python",
   "nbconvert_exporter": "python",
   "pygments_lexer": "ipython3",
   "version": "3.9.6"
  }
 },
 "nbformat": 4,
 "nbformat_minor": 2
}
